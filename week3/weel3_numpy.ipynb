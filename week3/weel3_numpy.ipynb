{
 "cells": [
  {
   "cell_type": "code",
   "execution_count": 1,
   "id": "f225c185-024a-4cd8-9aa2-a52516c94663",
   "metadata": {},
   "outputs": [],
   "source": [
    "# เป็น lib ทำงานในรูปแบบออบเจคของ Array ชื่อ ndarray ที่คล้ายกับ List แต่เร็วและจัดการหน่วยความจำได้ดี"
   ]
  },
  {
   "cell_type": "code",
   "execution_count": 2,
   "id": "2a917c8a-a78a-47ea-9ca2-0f438791213f",
   "metadata": {},
   "outputs": [],
   "source": [
    "import numpy as np"
   ]
  },
  {
   "cell_type": "markdown",
   "id": "ca3547db-bbcd-4ab0-b084-de9e014fd51d",
   "metadata": {},
   "source": [
    "zeros() สร้างแบบกำหนดมิติให้ทุกตัวเป็น 0"
   ]
  },
  {
   "cell_type": "code",
   "execution_count": 6,
   "id": "6dd2f34f-6e36-4521-adf0-321b89e0005f",
   "metadata": {},
   "outputs": [
    {
     "data": {
      "text/plain": [
       "array([[0, 0, 0, 0],\n",
       "       [0, 0, 0, 0],\n",
       "       [0, 0, 0, 0]])"
      ]
     },
     "execution_count": 6,
     "metadata": {},
     "output_type": "execute_result"
    }
   ],
   "source": [
    "b = np.zeros([3,4], dtype=int) #dtype คือเราอยากให้เป็น type อะไร\n",
    "b"
   ]
  },
  {
   "cell_type": "code",
   "execution_count": 10,
   "id": "9c7c6df4-ebe4-4a3e-abc8-4dc09bff1d48",
   "metadata": {},
   "outputs": [
    {
     "data": {
      "text/plain": [
       "array([[1., 1.],\n",
       "       [1., 1.],\n",
       "       [1., 1.]])"
      ]
     },
     "execution_count": 10,
     "metadata": {},
     "output_type": "execute_result"
    }
   ],
   "source": [
    "c = np.ones([3,2])\n",
    "c"
   ]
  },
  {
   "cell_type": "code",
   "execution_count": 11,
   "id": "6880ebae-6702-4bad-bf69-bcf9a6270e17",
   "metadata": {},
   "outputs": [
    {
     "data": {
      "text/plain": [
       "array([[9, 9],\n",
       "       [9, 9],\n",
       "       [9, 9]])"
      ]
     },
     "execution_count": 11,
     "metadata": {},
     "output_type": "execute_result"
    }
   ],
   "source": [
    "d = np.full([3,2],9) #เลือกค่าได้\n",
    "d"
   ]
  },
  {
   "cell_type": "markdown",
   "id": "0aa56176-5764-4b69-a5b5-296766e16a59",
   "metadata": {},
   "source": [
    "arrange() สร้างค่าจากเริ่มต้นไปยังค่าที่กำหนด"
   ]
  },
  {
   "cell_type": "code",
   "execution_count": 13,
   "id": "e6839491-ace4-4e42-9265-b3299f0498f9",
   "metadata": {},
   "outputs": [
    {
     "data": {
      "text/plain": [
       "array([0, 1, 2, 3, 4, 5, 6, 7, 8, 9])"
      ]
     },
     "execution_count": 13,
     "metadata": {},
     "output_type": "execute_result"
    }
   ],
   "source": [
    "e = np.arange(10)\n",
    "e"
   ]
  },
  {
   "cell_type": "code",
   "execution_count": 16,
   "id": "1345502e-cb83-4286-bea5-3f7d8c67a532",
   "metadata": {},
   "outputs": [
    {
     "data": {
      "text/plain": [
       "array([ 1,  2,  3,  4,  5,  6,  7,  8,  9, 10])"
      ]
     },
     "execution_count": 16,
     "metadata": {},
     "output_type": "execute_result"
    }
   ],
   "source": [
    "f = np.arange(1,11)\n",
    "f"
   ]
  },
  {
   "cell_type": "code",
   "execution_count": 17,
   "id": "a8595be5-4ed0-49a1-9ad3-9bf60942e0bc",
   "metadata": {},
   "outputs": [
    {
     "data": {
      "text/plain": [
       "array([ 5,  7,  9, 11, 13, 15, 17, 19])"
      ]
     },
     "execution_count": 17,
     "metadata": {},
     "output_type": "execute_result"
    }
   ],
   "source": [
    "g = np.arange(5,21,2)\n",
    "g"
   ]
  },
  {
   "cell_type": "code",
   "execution_count": 20,
   "id": "b6d5be13-c581-4744-9596-eb935d7bf00c",
   "metadata": {},
   "outputs": [
    {
     "data": {
      "text/plain": [
       "array([50, 45, 40, 35, 30, 25, 20, 15, 10,  5])"
      ]
     },
     "execution_count": 20,
     "metadata": {},
     "output_type": "execute_result"
    }
   ],
   "source": [
    "h = np.arange(50,0,-5)\n",
    "h"
   ]
  },
  {
   "cell_type": "markdown",
   "id": "3d92d4fc-faca-4b18-8d2b-fdd7c70aff21",
   "metadata": {},
   "source": [
    "linspace() สร้างตัวเลขจากค่าเริ่มต้นไปค่าสิ้นสุดแบบระบุจำนวนที่การสร้างได้ (ถ้าไม่ระบุจำนวนจะเป็น 50) "
   ]
  },
  {
   "cell_type": "code",
   "execution_count": 21,
   "id": "3f16622c-eb8e-47c1-9550-d725c427680a",
   "metadata": {},
   "outputs": [
    {
     "data": {
      "text/plain": [
       "array([  1.,  12.,  23.,  34.,  45.,  56.,  67.,  78.,  89., 100.])"
      ]
     },
     "execution_count": 21,
     "metadata": {},
     "output_type": "execute_result"
    }
   ],
   "source": [
    "i = np.linspace(1,100,10)\n",
    "i"
   ]
  },
  {
   "cell_type": "markdown",
   "id": "cc399e3d-dea5-44ad-be69-5559c9d861dc",
   "metadata": {},
   "source": [
    "eye() สร้างแนวทแยงมุมที่มีค่าเป็น 1 ที่เหลือเป็น 0 "
   ]
  },
  {
   "cell_type": "code",
   "execution_count": 23,
   "id": "4d670752-d0a6-4953-8f48-290b3a6448f5",
   "metadata": {},
   "outputs": [
    {
     "data": {
      "text/plain": [
       "array([[1., 0., 0., 0., 0.],\n",
       "       [0., 1., 0., 0., 0.],\n",
       "       [0., 0., 1., 0., 0.],\n",
       "       [0., 0., 0., 1., 0.],\n",
       "       [0., 0., 0., 0., 1.]])"
      ]
     },
     "execution_count": 23,
     "metadata": {},
     "output_type": "execute_result"
    }
   ],
   "source": [
    "j = np.eye(5)\n",
    "j"
   ]
  },
  {
   "cell_type": "code",
   "execution_count": 26,
   "id": "7f647374-4e73-475e-aae4-10247e702047",
   "metadata": {},
   "outputs": [
    {
     "data": {
      "text/plain": [
       "array([[0., 1., 0., 0., 0., 0., 0., 0.],\n",
       "       [0., 0., 1., 0., 0., 0., 0., 0.],\n",
       "       [0., 0., 0., 1., 0., 0., 0., 0.],\n",
       "       [0., 0., 0., 0., 1., 0., 0., 0.],\n",
       "       [0., 0., 0., 0., 0., 1., 0., 0.]])"
      ]
     },
     "execution_count": 26,
     "metadata": {},
     "output_type": "execute_result"
    }
   ],
   "source": [
    "j = np.eye(5,8,1) #metric 5x8 และให้ 1 ขยับไป1 หลัก\n",
    "j"
   ]
  },
  {
   "cell_type": "markdown",
   "id": "e4ce9177-0198-4107-9679-e6f9e5451248",
   "metadata": {},
   "source": [
    "empty() สร้าง ndarray แบบค่าสุ่ม"
   ]
  },
  {
   "cell_type": "code",
   "execution_count": 32,
   "id": "037401ca-9d9e-4b5f-a456-6c6eb149f7fa",
   "metadata": {},
   "outputs": [
    {
     "name": "stdout",
     "output_type": "stream",
     "text": [
      "[[4607182418800017408                   0                   0\n",
      "                    0                   0]\n",
      " [                  0 4607182418800017408                   0\n",
      "                    0                   0]\n",
      " [                  0                   0 4607182418800017408\n",
      "                    0                   0]\n",
      " [                  0                   0                   0\n",
      "  4607182418800017408                   0]\n",
      " [                  0                   0                   0\n",
      "                    0 4607182418800017408]]\n"
     ]
    }
   ],
   "source": [
    "k = np.empty([5,5],dtype=int)\n",
    "print(k)"
   ]
  },
  {
   "cell_type": "markdown",
   "id": "4178f09a-db00-42b7-907e-3db6ca3a625f",
   "metadata": {},
   "source": []
  },
  {
   "cell_type": "code",
   "execution_count": 34,
   "id": "835602ce-a44a-44d9-918b-202f5f468b4a",
   "metadata": {},
   "outputs": [
    {
     "data": {
      "text/plain": [
       "26"
      ]
     },
     "execution_count": 34,
     "metadata": {},
     "output_type": "execute_result"
    }
   ],
   "source": [
    "l = np.random.randint(100)\n",
    "l"
   ]
  },
  {
   "cell_type": "code",
   "execution_count": 42,
   "id": "9b301423-4b8c-4d80-b4e6-92cd7251db39",
   "metadata": {},
   "outputs": [
    {
     "data": {
      "text/plain": [
       "5"
      ]
     },
     "execution_count": 42,
     "metadata": {},
     "output_type": "execute_result"
    }
   ],
   "source": [
    "from numpy import random as rd\n",
    "rd.randint(10)"
   ]
  },
  {
   "cell_type": "code",
   "execution_count": 43,
   "id": "f06304a2-7388-423d-b371-34a38ef44119",
   "metadata": {},
   "outputs": [
    {
     "data": {
      "text/plain": [
       "array([[0.54785286, 0.10132555, 0.38963151, 0.55675958],\n",
       "       [0.55891427, 0.71404823, 0.26976051, 0.57688598],\n",
       "       [0.08718011, 0.6942673 , 0.44631427, 0.57371771]])"
      ]
     },
     "execution_count": 43,
     "metadata": {},
     "output_type": "execute_result"
    }
   ],
   "source": [
    "rd.rand(3,4) #ค่าสุ่ม 0-1"
   ]
  },
  {
   "cell_type": "code",
   "execution_count": 44,
   "id": "6822f0d7-d526-4b6d-bf45-899eb130b15c",
   "metadata": {},
   "outputs": [
    {
     "data": {
      "text/plain": [
       "array([[35, 29, 16],\n",
       "       [44, 42, 20]], dtype=int32)"
      ]
     },
     "execution_count": 44,
     "metadata": {},
     "output_type": "execute_result"
    }
   ],
   "source": [
    "rd.randint(100,size=[2,3])"
   ]
  },
  {
   "cell_type": "markdown",
   "id": "7f99c9a0-fca1-4e66-a6d1-2b84b76d413f",
   "metadata": {},
   "source": [
    "choice() สร้างแบบสุ่มจากข้อมูลที่ตั้งไว้และสามารถตั้งความน่าจะเป็นได้"
   ]
  },
  {
   "cell_type": "code",
   "execution_count": 55,
   "id": "841843f0-4b38-4b83-b004-be6284ac7cfd",
   "metadata": {},
   "outputs": [
    {
     "name": "stdout",
     "output_type": "stream",
     "text": [
      "[[50 10 40]\n",
      " [50 10 30]]\n"
     ]
    }
   ],
   "source": [
    "lst = [10,20,30,40,50]\n",
    "a = rd.choice(lst, p=[0.5,0.2,0.1,0.1,0.1], size=[2,3])\n",
    "print(a)"
   ]
  },
  {
   "cell_type": "markdown",
   "id": "a75027bb-7b09-42db-b019-a2e849f165ef",
   "metadata": {},
   "source": [
    "shuffle() คือสลับตำแหน่ง"
   ]
  },
  {
   "cell_type": "code",
   "execution_count": 56,
   "id": "e06b5e30-824b-47f6-a086-cade43d8ac49",
   "metadata": {},
   "outputs": [
    {
     "data": {
      "text/plain": [
       "array([0, 1, 2, 3, 4, 5, 6, 7, 8, 9])"
      ]
     },
     "execution_count": 56,
     "metadata": {},
     "output_type": "execute_result"
    }
   ],
   "source": [
    "a = np.arange(10)\n",
    "a\n"
   ]
  },
  {
   "cell_type": "code",
   "execution_count": 58,
   "id": "24e27912-f3ee-4511-b471-38f343a2bed1",
   "metadata": {},
   "outputs": [
    {
     "data": {
      "text/plain": [
       "array([4, 6, 2, 3, 5, 8, 9, 0, 1, 7])"
      ]
     },
     "execution_count": 58,
     "metadata": {},
     "output_type": "execute_result"
    }
   ],
   "source": [
    "rd.shuffle(a)\n",
    "a"
   ]
  },
  {
   "cell_type": "markdown",
   "id": "6592697a-6ba8-4b35-bbe7-87c51611e5f8",
   "metadata": {},
   "source": [
    "permutation() สลับค่าแต่เป็นการสร้างขึ้นมาใหม่ ตัวต้นฉบับยังคงเดิม เช่นเดียวกับ  tolower() toupper()"
   ]
  },
  {
   "cell_type": "code",
   "execution_count": 64,
   "id": "4f9310d1-c191-4078-91e9-0d102bccf07c",
   "metadata": {},
   "outputs": [
    {
     "data": {
      "text/plain": [
       "array([0, 1, 2, 3, 4, 5, 6, 7, 8, 9])"
      ]
     },
     "execution_count": 64,
     "metadata": {},
     "output_type": "execute_result"
    }
   ],
   "source": [
    "b = np.arange(10)\n",
    "b"
   ]
  },
  {
   "cell_type": "code",
   "execution_count": 68,
   "id": "cc02b36b-d569-4ed1-a201-5d6ffdb64857",
   "metadata": {},
   "outputs": [
    {
     "data": {
      "text/plain": [
       "array([8, 7, 2, 4, 1, 0, 6, 9, 5, 3])"
      ]
     },
     "execution_count": 68,
     "metadata": {},
     "output_type": "execute_result"
    }
   ],
   "source": [
    "rd.permutation(b)"
   ]
  },
  {
   "cell_type": "markdown",
   "id": "8a920d80-6c21-48e5-b00d-02f893b17e94",
   "metadata": {},
   "source": [
    "reshape() เปลี่ยนขนาดของ ndarray"
   ]
  },
  {
   "cell_type": "code",
   "execution_count": 69,
   "id": "5369558f-a924-4d58-9e45-4b5e707925a4",
   "metadata": {},
   "outputs": [
    {
     "data": {
      "text/plain": [
       "array([ 0,  1,  2,  3,  4,  5,  6,  7,  8,  9, 10, 11, 12, 13, 14, 15, 16,\n",
       "       17, 18, 19])"
      ]
     },
     "execution_count": 69,
     "metadata": {},
     "output_type": "execute_result"
    }
   ],
   "source": [
    "p = np.arange(20)\n",
    "p"
   ]
  },
  {
   "cell_type": "code",
   "execution_count": 82,
   "id": "d53f077f-2586-4440-b630-38d20a28c053",
   "metadata": {},
   "outputs": [
    {
     "name": "stdout",
     "output_type": "stream",
     "text": [
      "[[ 0  1  2  3  4]\n",
      " [ 5  6  7  8  9]\n",
      " [10 11 12 13 14]\n",
      " [15 16 17 18 19]]\n"
     ]
    }
   ],
   "source": [
    "print(p.reshape(4,5)) #ข้อมูลต้องสัมพันกันด้วยถึงจะ reshape ได้"
   ]
  },
  {
   "cell_type": "code",
   "execution_count": 87,
   "id": "8c38ca3c-df62-4c3b-a573-e9d74800879f",
   "metadata": {},
   "outputs": [
    {
     "name": "stdout",
     "output_type": "stream",
     "text": [
      "[[[21]\n",
      "  [99]\n",
      "  [31]\n",
      "  [76]\n",
      "  [10]]\n",
      "\n",
      " [[83]\n",
      "  [22]\n",
      "  [70]\n",
      "  [42]\n",
      "  [30]]\n",
      "\n",
      " [[70]\n",
      "  [ 3]\n",
      "  [63]\n",
      "  [35]\n",
      "  [28]]\n",
      "\n",
      " [[59]\n",
      "  [76]\n",
      "  [ 3]\n",
      "  [29]\n",
      "  [46]]]\n"
     ]
    }
   ],
   "source": [
    "p = rd.randint(100, size=[4,5])\n",
    "print(p.reshape(4,5,-1)) # เอามาเรียงกลับเป็น 1D"
   ]
  },
  {
   "cell_type": "markdown",
   "id": "d719945d-f43f-4fc1-a34e-c0b7d856e146",
   "metadata": {},
   "source": [
    "vectorization นำ array สองตัวที่มีมิติเท่ากันมาทำ operation"
   ]
  },
  {
   "cell_type": "code",
   "execution_count": 88,
   "id": "b931f78f-8a2f-4571-8073-d265d675c544",
   "metadata": {},
   "outputs": [
    {
     "data": {
      "text/plain": [
       "array([ 5,  7,  9, 11, 13])"
      ]
     },
     "execution_count": 88,
     "metadata": {},
     "output_type": "execute_result"
    }
   ],
   "source": [
    "o = np.array([1,2,3,4,5])\n",
    "s = np.array([4,5,6,7,8])\n",
    "o+s"
   ]
  },
  {
   "cell_type": "code",
   "execution_count": 89,
   "id": "a359f657-6a52-476d-8f23-c05f8141e837",
   "metadata": {},
   "outputs": [
    {
     "data": {
      "text/plain": [
       "[1, 2, 3, 4, 5, 6, 7, 8, 9, 0]"
      ]
     },
     "execution_count": 89,
     "metadata": {},
     "output_type": "execute_result"
    }
   ],
   "source": [
    "y = [1,2,3,4,5]\n",
    "z = [6,7,8,9,0]\n",
    "y+z"
   ]
  },
  {
   "cell_type": "markdown",
   "id": "f569c13f-cdb2-4472-ba44-e452faf0afee",
   "metadata": {},
   "source": [
    "Broadcasting นำ ndarray สองตัวที่มี 1 สมาชิก กับ n สมาชิก มาทำ operation"
   ]
  },
  {
   "cell_type": "code",
   "execution_count": 91,
   "id": "357456a6-b8c7-43b3-8462-8016517a70c7",
   "metadata": {},
   "outputs": [
    {
     "data": {
      "text/plain": [
       "array([10, 15, 20, 25])"
      ]
     },
     "execution_count": 91,
     "metadata": {},
     "output_type": "execute_result"
    }
   ],
   "source": [
    "a = np.array([2,3,4,5])\n",
    "b = np.array([5])\n",
    "a*b"
   ]
  },
  {
   "cell_type": "markdown",
   "id": "9a9903d1-8527-4ac2-834d-6ce1b152b7c4",
   "metadata": {},
   "source": [
    "vectorize + broadcasting"
   ]
  },
  {
   "cell_type": "code",
   "execution_count": 95,
   "id": "781e7165-e094-451e-a5d3-2d919f686f89",
   "metadata": {},
   "outputs": [
    {
     "name": "stdout",
     "output_type": "stream",
     "text": [
      "[[ 0  1  2  3  4  5  6  7  8  9]\n",
      " [10 11 12 13 14 15 16 17 18 19]\n",
      " [20 21 22 23 24 25 26 27 28 29]\n",
      " [30 31 32 33 34 35 36 37 38 39]]\n",
      "[[0]\n",
      " [1]\n",
      " [2]\n",
      " [3]]\n",
      "[[  0   0   0   0   0   0   0   0   0   0]\n",
      " [ 10  11  12  13  14  15  16  17  18  19]\n",
      " [ 40  42  44  46  48  50  52  54  56  58]\n",
      " [ 90  93  96  99 102 105 108 111 114 117]]\n"
     ]
    }
   ],
   "source": [
    "a = np.arange(40).reshape(4,10)\n",
    "print(a)\n",
    "b = np.arange(4).reshape(4,1)\n",
    "print(b)\n",
    "\n",
    "print(a*b)"
   ]
  },
  {
   "cell_type": "markdown",
   "id": "3426fe74-e6ea-43f3-885a-53b28b48aff6",
   "metadata": {},
   "source": [
    "Array indexing"
   ]
  },
  {
   "cell_type": "code",
   "execution_count": 96,
   "id": "d9797273-d73c-4807-8ea4-5f172fac8abb",
   "metadata": {},
   "outputs": [
    {
     "data": {
      "text/plain": [
       "array([[ 0,  1,  2,  3],\n",
       "       [ 4,  5,  6,  7],\n",
       "       [ 8,  9, 10, 11]])"
      ]
     },
     "execution_count": 96,
     "metadata": {},
     "output_type": "execute_result"
    }
   ],
   "source": [
    "a = np.arange(12).reshape(3,4)\n",
    "a"
   ]
  },
  {
   "cell_type": "code",
   "execution_count": 100,
   "id": "c68a5023-f18c-48e4-bfb7-cef2bc6b87a0",
   "metadata": {},
   "outputs": [
    {
     "data": {
      "text/plain": [
       "np.int64(11)"
      ]
     },
     "execution_count": 100,
     "metadata": {},
     "output_type": "execute_result"
    }
   ],
   "source": [
    "a[-1,-1]"
   ]
  },
  {
   "cell_type": "markdown",
   "id": "2c88ebf6-a99c-443a-8b12-75e5696c317a",
   "metadata": {},
   "source": [
    "Index slicing"
   ]
  },
  {
   "cell_type": "code",
   "execution_count": 102,
   "id": "0f78faf9-50fe-433c-ae11-06ecaeecc8b3",
   "metadata": {},
   "outputs": [
    {
     "data": {
      "text/plain": [
       "array([[0, 1, 2, 3],\n",
       "       [4, 5, 6, 7]])"
      ]
     },
     "execution_count": 102,
     "metadata": {},
     "output_type": "execute_result"
    }
   ],
   "source": [
    "a[0:2]"
   ]
  },
  {
   "cell_type": "code",
   "execution_count": 104,
   "id": "79f65152-e7eb-499e-adfb-ca4e9f66ab64",
   "metadata": {},
   "outputs": [
    {
     "data": {
      "text/plain": [
       "array([[0, 1],\n",
       "       [8, 9]])"
      ]
     },
     "execution_count": 104,
     "metadata": {},
     "output_type": "execute_result"
    }
   ],
   "source": [
    "a[: : 2, 0 : 2]"
   ]
  },
  {
   "cell_type": "code",
   "execution_count": 106,
   "id": "7a1206c9-130e-4252-8ce9-e6352c92e60f",
   "metadata": {},
   "outputs": [
    {
     "data": {
      "text/plain": [
       "array([[ 6,  7],\n",
       "       [10, 11]])"
      ]
     },
     "execution_count": 106,
     "metadata": {},
     "output_type": "execute_result"
    }
   ],
   "source": [
    "a[ 1 : , 2 : ]"
   ]
  },
  {
   "cell_type": "code",
   "execution_count": 107,
   "id": "3097b776-a79a-4ddc-a878-22174c30df28",
   "metadata": {},
   "outputs": [
    {
     "data": {
      "text/plain": [
       "array([[ 0,  1,  2,  3,  4],\n",
       "       [ 5,  6,  7,  8,  9],\n",
       "       [10, 11, 12, 13, 14],\n",
       "       [15, 16, 17, 18, 19]])"
      ]
     },
     "execution_count": 107,
     "metadata": {},
     "output_type": "execute_result"
    }
   ],
   "source": [
    "t = np.arange(20).reshape(4,5)\n",
    "t"
   ]
  },
  {
   "cell_type": "code",
   "execution_count": 110,
   "id": "cfff8274-7b40-4834-a833-98ecb60941f1",
   "metadata": {},
   "outputs": [
    {
     "data": {
      "text/plain": [
       "array([[ 1,  3],\n",
       "       [16, 18]])"
      ]
     },
     "execution_count": 110,
     "metadata": {},
     "output_type": "execute_result"
    }
   ],
   "source": [
    "t[0 : : 3, 1 : : 2]"
   ]
  },
  {
   "cell_type": "markdown",
   "id": "cbd05d9f-32cf-4a61-ad8d-e9114032d96b",
   "metadata": {},
   "source": [
    "array join"
   ]
  },
  {
   "cell_type": "code",
   "execution_count": 112,
   "id": "4319c6cd-9f93-48bd-bdbc-37d9cba4233d",
   "metadata": {},
   "outputs": [
    {
     "data": {
      "text/plain": [
       "array([1, 2, 3, 4, 5, 6, 7, 8])"
      ]
     },
     "execution_count": 112,
     "metadata": {},
     "output_type": "execute_result"
    }
   ],
   "source": [
    "arr1 = np.array([1,2,3,4])\n",
    "arr2 = np.array([5,6,7,8])\n",
    "join = np.concatenate([arr1, arr2])\n",
    "join"
   ]
  },
  {
   "cell_type": "markdown",
   "id": "4698d20e-39b2-46be-8748-7f86336ef65e",
   "metadata": {},
   "source": [
    "array split"
   ]
  },
  {
   "cell_type": "code",
   "execution_count": null,
   "id": "221ecb2d-97f5-4136-a297-0738bc699c15",
   "metadata": {},
   "outputs": [],
   "source": []
  }
 ],
 "metadata": {
  "kernelspec": {
   "display_name": "Python 3 (ipykernel)",
   "language": "python",
   "name": "python3"
  },
  "language_info": {
   "codemirror_mode": {
    "name": "ipython",
    "version": 3
   },
   "file_extension": ".py",
   "mimetype": "text/x-python",
   "name": "python",
   "nbconvert_exporter": "python",
   "pygments_lexer": "ipython3",
   "version": "3.12.4"
  }
 },
 "nbformat": 4,
 "nbformat_minor": 5
}
