{
 "cells": [
  {
   "cell_type": "markdown",
   "id": "2deb2305-48d8-46bc-9883-b46ff305f5ad",
   "metadata": {},
   "source": [
    "Week 1"
   ]
  },
  {
   "cell_type": "code",
   "execution_count": 13,
   "id": "534448a0-ef21-4565-979c-f64883d56d4c",
   "metadata": {},
   "outputs": [
    {
     "name": "stdout",
     "output_type": "stream",
     "text": [
      "0\n",
      "5\n"
     ]
    }
   ],
   "source": [
    "for i in range(0,10,5):\n",
    "    print(i)"
   ]
  },
  {
   "cell_type": "code",
   "execution_count": 18,
   "id": "fa514299-71de-4870-b3c6-2f7fac877436",
   "metadata": {},
   "outputs": [],
   "source": [
    "def max(a,b):\n",
    "    \"This function return max value\"\n",
    "    if a>b :\n",
    "        return a\n",
    "    else :\n",
    "        return b"
   ]
  },
  {
   "cell_type": "code",
   "execution_count": 19,
   "id": "a13b1a71-0541-4ba2-a905-d9890723d1be",
   "metadata": {},
   "outputs": [
    {
     "name": "stdout",
     "output_type": "stream",
     "text": [
      "Help on function max in module __main__:\n",
      "\n",
      "max(a, b)\n",
      "    This function return max value\n",
      "\n"
     ]
    }
   ],
   "source": [
    "help(max)"
   ]
  },
  {
   "cell_type": "code",
   "execution_count": 21,
   "id": "e3418e72-43c7-4da9-a789-fa48a6184ce5",
   "metadata": {},
   "outputs": [],
   "source": [
    "def printName(first, last, initials=True):\n",
    "    if initials:\n",
    "        print(first[0],'.',last[0]+'.')\n",
    "    else:\n",
    "        print(first, last)"
   ]
  },
  {
   "cell_type": "code",
   "execution_count": 23,
   "id": "0faed026-0619-40d2-9e9b-3feb2deb3af2",
   "metadata": {},
   "outputs": [
    {
     "name": "stdout",
     "output_type": "stream",
     "text": [
      "p . a.\n"
     ]
    }
   ],
   "source": [
    "printName('patiphat', 'aiamram', True)"
   ]
  },
  {
   "cell_type": "code",
   "execution_count": 25,
   "id": "bbeca568-bab3-471f-bcdb-22b3e2d84c31",
   "metadata": {},
   "outputs": [
    {
     "name": "stdout",
     "output_type": "stream",
     "text": [
      "bobo hamham\n"
     ]
    }
   ],
   "source": [
    "printName(last='hamham',first='bobo',initials=False)"
   ]
  },
  {
   "cell_type": "code",
   "execution_count": 32,
   "id": "abeaf581-6577-4942-b0bd-c0c99475701f",
   "metadata": {},
   "outputs": [
    {
     "data": {
      "text/plain": [
       "3"
      ]
     },
     "execution_count": 32,
     "metadata": {},
     "output_type": "execute_result"
    }
   ],
   "source": [
    "special = '1\\n2' #special char นับเป็น 1 ตัว\n",
    "len(special)"
   ]
  },
  {
   "cell_type": "code",
   "execution_count": 33,
   "id": "f51a56ca-29bd-4f09-aa67-97bb57645052",
   "metadata": {},
   "outputs": [],
   "source": [
    "name = 'popololo'"
   ]
  },
  {
   "cell_type": "code",
   "execution_count": 45,
   "id": "80ea1054-699b-427a-87ae-4bf7119244a8",
   "metadata": {},
   "outputs": [
    {
     "data": {
      "text/plain": [
       "'ppll'"
      ]
     },
     "execution_count": 45,
     "metadata": {},
     "output_type": "execute_result"
    }
   ],
   "source": [
    "name[ : : 2 ]"
   ]
  },
  {
   "cell_type": "code",
   "execution_count": 46,
   "id": "db3201ee-3740-441c-a8c3-01f4419b5557",
   "metadata": {},
   "outputs": [
    {
     "data": {
      "text/plain": [
       "''"
      ]
     },
     "execution_count": 46,
     "metadata": {},
     "output_type": "execute_result"
    }
   ],
   "source": [
    "name[20:50]"
   ]
  },
  {
   "cell_type": "code",
   "execution_count": 49,
   "id": "23389bea-d114-4591-bf35-4e44a0e57c2d",
   "metadata": {},
   "outputs": [
    {
     "data": {
      "text/plain": [
       "'ololopop'"
      ]
     },
     "execution_count": 49,
     "metadata": {},
     "output_type": "execute_result"
    }
   ],
   "source": [
    "name[len(name)-1:  : -1]"
   ]
  },
  {
   "cell_type": "code",
   "execution_count": 75,
   "id": "983dab8b-5ae9-478f-a58d-1e41afdc0d7a",
   "metadata": {},
   "outputs": [
    {
     "data": {
      "text/plain": [
       "tuple"
      ]
     },
     "execution_count": 75,
     "metadata": {},
     "output_type": "execute_result"
    }
   ],
   "source": [
    "t =  'intro', 101\n",
    "type(t)"
   ]
  },
  {
   "cell_type": "code",
   "execution_count": 116,
   "id": "1761850d-dc53-4292-ad41-bd992911919c",
   "metadata": {},
   "outputs": [
    {
     "data": {
      "text/plain": [
       "tuple"
      ]
     },
     "execution_count": 116,
     "metadata": {},
     "output_type": "execute_result"
    }
   ],
   "source": [
    "n = 500, 3.14, 'hello', t\n",
    "type(n)"
   ]
  },
  {
   "cell_type": "code",
   "execution_count": 117,
   "id": "366f039e-100f-41e6-934e-a08652651f7b",
   "metadata": {},
   "outputs": [
    {
     "data": {
      "text/plain": [
       "'i'"
      ]
     },
     "execution_count": 117,
     "metadata": {},
     "output_type": "execute_result"
    }
   ],
   "source": [
    "n[3][0][0]"
   ]
  },
  {
   "cell_type": "code",
   "execution_count": 118,
   "id": "59e90bce-b2a9-4355-b2de-f505469a17c1",
   "metadata": {},
   "outputs": [],
   "source": [
    "a, b, c, d = n #saperated"
   ]
  },
  {
   "cell_type": "code",
   "execution_count": 113,
   "id": "aa784345-7cd2-4aa2-b45e-e3f1d40cbbcf",
   "metadata": {},
   "outputs": [
    {
     "data": {
      "text/plain": [
       "500"
      ]
     },
     "execution_count": 113,
     "metadata": {},
     "output_type": "execute_result"
    }
   ],
   "source": [
    "a"
   ]
  },
  {
   "cell_type": "code",
   "execution_count": 139,
   "id": "6d9c63d6-2f34-4e00-8776-15c1fe4605be",
   "metadata": {},
   "outputs": [],
   "source": [
    "lst = [1,2,3]"
   ]
  },
  {
   "cell_type": "code",
   "execution_count": 140,
   "id": "d68cac76-6122-46b9-9295-cd72b7c70487",
   "metadata": {},
   "outputs": [
    {
     "data": {
      "text/plain": [
       "[1, 2, 3]"
      ]
     },
     "execution_count": 140,
     "metadata": {},
     "output_type": "execute_result"
    }
   ],
   "source": [
    "lst"
   ]
  },
  {
   "cell_type": "code",
   "execution_count": 141,
   "id": "64eb8a4b-8b4a-42b4-ad80-dd8dfdc245d9",
   "metadata": {},
   "outputs": [
    {
     "data": {
      "text/plain": [
       "[1, 2, 3, 60]"
      ]
     },
     "execution_count": 141,
     "metadata": {},
     "output_type": "execute_result"
    }
   ],
   "source": [
    "lst.append(60) # allowed 1 number only\n",
    "lst"
   ]
  },
  {
   "cell_type": "code",
   "execution_count": 142,
   "id": "b9a01a01-5f82-4402-889a-38a4b77b765d",
   "metadata": {},
   "outputs": [
    {
     "data": {
      "text/plain": [
       "[1, 2, 3, 60, 1, 2]"
      ]
     },
     "execution_count": 142,
     "metadata": {},
     "output_type": "execute_result"
    }
   ],
   "source": [
    "lst.extend((1,2)) # multiple number allowed\n",
    "lst"
   ]
  },
  {
   "cell_type": "code",
   "execution_count": 1,
   "id": "4ba64540-ca47-45c7-9ebe-00894be93e96",
   "metadata": {},
   "outputs": [],
   "source": [
    "p =['k', 1]"
   ]
  },
  {
   "cell_type": "code",
   "execution_count": null,
   "id": "b0df3335-b081-4cdd-aa41-af9100071647",
   "metadata": {},
   "outputs": [],
   "source": []
  }
 ],
 "metadata": {
  "kernelspec": {
   "display_name": "Python 3 (ipykernel)",
   "language": "python",
   "name": "python3"
  },
  "language_info": {
   "codemirror_mode": {
    "name": "ipython",
    "version": 3
   },
   "file_extension": ".py",
   "mimetype": "text/x-python",
   "name": "python",
   "nbconvert_exporter": "python",
   "pygments_lexer": "ipython3",
   "version": "3.12.4"
  }
 },
 "nbformat": 4,
 "nbformat_minor": 5
}
